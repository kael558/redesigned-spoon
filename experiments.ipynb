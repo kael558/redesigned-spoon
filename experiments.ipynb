{
 "cells": [
  {
   "cell_type": "code",
   "execution_count": 1,
   "id": "e1cffa8e-dfd5-4e4f-8586-389ede19d94b",
   "metadata": {},
   "outputs": [
    {
     "name": "stderr",
     "output_type": "stream",
     "text": [
      "C:\\Users\\Rahel\\PycharmProjects\\pythonProject\\venv\\lib\\site-packages\\tqdm\\auto.py:22: TqdmWarning: IProgress not found. Please update jupyter and ipywidgets. See https://ipywidgets.readthedocs.io/en/stable/user_install.html\n",
      "  from .autonotebook import tqdm as notebook_tqdm\n"
     ]
    }
   ],
   "source": [
    "import os\n",
    "\n",
    "import cohere\n",
    "import pandas as pd\n",
    "import sklearn.cluster\n",
    "import umap\n",
    "import seaborn as sns\n",
    "from annoy import AnnoyIndex\n",
    "import numpy as np\n",
    "from dotenv import load_dotenv\n",
    "from scipy.cluster.hierarchy import dendrogram\n",
    "from sklearn.cluster import AgglomerativeClustering\n",
    "import matplotlib.pyplot as plt\n",
    "import plotly.express as px"
   ]
  },
  {
   "cell_type": "code",
   "execution_count": 2,
   "id": "7ac20cee-a3ee-4fb1-838b-a224c86fced2",
   "metadata": {},
   "outputs": [],
   "source": [
    "from main import *"
   ]
  },
  {
   "cell_type": "code",
   "execution_count": 3,
   "id": "03c29e4d-402e-4442-abfb-00e6c72ab2ac",
   "metadata": {},
   "outputs": [],
   "source": [
    "np.random.seed(42)\n",
    "key = get_key()\n",
    "co = cohere.Client(key)\n",
    "\n",
    "# Get dataframe\n",
    "df = getDataFrame('data_100.csv')\n",
    "\n",
    "# Get vectors using coheres embeddings\n",
    "embeddings = getEmbeddings(co, df)\n",
    "\n",
    "# Save embeddings as Annoy\n",
    "indexfile = 'index.ann'\n",
    "#saveBuild(embeddings, indexfile)\n",
    "\n",
    "# Get query embeddings and append to embeddings\n",
    "query = 'Celestial bodies and physics'\n",
    "query_embed = get_query_embed(co, query)\n",
    "\n",
    "# Get nearest points\n",
    "num_nearest = 10\n",
    "nearest_ids = get_query_nn(indexfile, query_embed, num_nearest)\n",
    "df = df.loc[nearest_ids[0]]\n",
    "nn_embeddings = embeddings[nearest_ids[0]]\n",
    "\n",
    "df.loc[(num_nearest+1)] = ['Query', query, '']\n",
    "all_embeddings = np.vstack([nn_embeddings, query_embed])\n",
    "\n",
    "# Cluster them using dendrograms & Plot them\n",
    "model = fitModel(nn_embeddings)\n",
    "dendroData = plotDendrogram(model)"
   ]
  },
  {
   "cell_type": "code",
   "execution_count": 36,
   "id": "3da6f18d-419b-44d5-86dc-c609e3f9706d",
   "metadata": {},
   "outputs": [
    {
     "data": {
      "text/plain": [
       "array([7, 9, 8, 6, 3, 5, 4, 2, 1, 0], dtype=int64)"
      ]
     },
     "execution_count": 36,
     "metadata": {},
     "output_type": "execute_result"
    }
   ],
   "source": [
    "model.labels_"
   ]
  },
  {
   "cell_type": "code",
   "execution_count": 37,
   "id": "e8823b5b-0118-413e-b62e-3deb67f95795",
   "metadata": {},
   "outputs": [
    {
     "data": {
      "text/plain": [
       "array([[ 8,  9],\n",
       "       [ 2,  6],\n",
       "       [ 0,  1],\n",
       "       [ 3,  4],\n",
       "       [ 7, 12],\n",
       "       [10, 11],\n",
       "       [13, 14],\n",
       "       [ 5, 15],\n",
       "       [16, 17]], dtype=int64)"
      ]
     },
     "execution_count": 37,
     "metadata": {},
     "output_type": "execute_result"
    }
   ],
   "source": [
    "model.children_"
   ]
  },
  {
   "cell_type": "code",
   "execution_count": 38,
   "id": "146e4e97",
   "metadata": {},
   "outputs": [],
   "source": [
    "# level 0 = show each doc as own cluster, level n = 1 cluster\n",
    "def get_clusters(cluster_dict, cluster_combine_order, level=count):\n",
    "    clusters = cluster_dict.copy()\n",
    "    n = len(clusters)\n",
    "    for i in range(level):\n",
    "        values = cluster_combine_order[0]\n",
    "        cluster_combine_order = np.delete(cluster_combine_order, 0, axis=0)\n",
    "        clusters[n] = clusters[values[0]] + clusters[values[1]]\n",
    "        clusters.pop(values[0])\n",
    "        clusters.pop(values[1])\n",
    "        n+=1\n",
    "    return clusters  "
   ]
  },
  {
   "cell_type": "code",
   "execution_count": 39,
   "id": "180a846a",
   "metadata": {},
   "outputs": [
    {
     "name": "stdout",
     "output_type": "stream",
     "text": [
      "{16: [3, 4, 7, 0, 1], 17: [5, 8, 9, 2, 6]}\n"
     ]
    }
   ],
   "source": [
    "import copy\n",
    "\n",
    "cluster_combine_order = copy.deepcopy(model.children_)\n",
    "\n",
    "clusters = dict()\n",
    "n = len(clusters)\n",
    "for cluster in model.labels_:\n",
    "    clusters[cluster] = [cluster]\n",
    "    \n",
    "print(get_clusters(clusters, cluster_combine_order, 8))"
   ]
  },
  {
   "cell_type": "code",
   "execution_count": 23,
   "id": "fcb48ee8-cb4b-43a3-bedd-7380491fa62e",
   "metadata": {},
   "outputs": [
    {
     "name": "stderr",
     "output_type": "stream",
     "text": [
      "/opt/homebrew/Caskroom/miniforge/base/lib/python3.9/site-packages/umap/umap_.py:2344: UserWarning: n_neighbors is larger than the dataset size; truncating to X.shape[0] - 1\n",
      "  warn(\n"
     ]
    }
   ],
   "source": [
    "# Map the nearest embeddings to 2d\n",
    "reducer = umap.UMAP()\n",
    "umap_embeds = reducer.fit_transform(all_embeddings)"
   ]
  },
  {
   "cell_type": "code",
   "execution_count": 25,
   "id": "959d6948-2ccb-4ced-9c4b-8fc4a96082f1",
   "metadata": {},
   "outputs": [
    {
     "data": {
      "text/plain": [
       "array([ 9.110998 , -6.9049573], dtype=float32)"
      ]
     },
     "execution_count": 25,
     "metadata": {},
     "output_type": "execute_result"
    }
   ],
   "source": [
    "umap_embeds[0]"
   ]
  },
  {
   "cell_type": "code",
   "execution_count": 26,
   "id": "7c3ace33-9bfd-4889-8642-8958ba98a81e",
   "metadata": {},
   "outputs": [
    {
     "data": {
      "text/html": [
       "<div>\n",
       "<style scoped>\n",
       "    .dataframe tbody tr th:only-of-type {\n",
       "        vertical-align: middle;\n",
       "    }\n",
       "\n",
       "    .dataframe tbody tr th {\n",
       "        vertical-align: top;\n",
       "    }\n",
       "\n",
       "    .dataframe thead th {\n",
       "        text-align: right;\n",
       "    }\n",
       "</style>\n",
       "<table border=\"1\" class=\"dataframe\">\n",
       "  <thead>\n",
       "    <tr style=\"text-align: right;\">\n",
       "      <th></th>\n",
       "      <th>item1</th>\n",
       "      <th>item2</th>\n",
       "      <th>dist</th>\n",
       "      <th>num_points</th>\n",
       "    </tr>\n",
       "  </thead>\n",
       "  <tbody>\n",
       "    <tr>\n",
       "      <th>0</th>\n",
       "      <td>8.0</td>\n",
       "      <td>9.0</td>\n",
       "      <td>70.142855</td>\n",
       "      <td>2.0</td>\n",
       "    </tr>\n",
       "    <tr>\n",
       "      <th>1</th>\n",
       "      <td>2.0</td>\n",
       "      <td>6.0</td>\n",
       "      <td>80.084881</td>\n",
       "      <td>2.0</td>\n",
       "    </tr>\n",
       "    <tr>\n",
       "      <th>2</th>\n",
       "      <td>0.0</td>\n",
       "      <td>1.0</td>\n",
       "      <td>82.073211</td>\n",
       "      <td>2.0</td>\n",
       "    </tr>\n",
       "    <tr>\n",
       "      <th>3</th>\n",
       "      <td>3.0</td>\n",
       "      <td>4.0</td>\n",
       "      <td>87.078755</td>\n",
       "      <td>2.0</td>\n",
       "    </tr>\n",
       "    <tr>\n",
       "      <th>4</th>\n",
       "      <td>7.0</td>\n",
       "      <td>12.0</td>\n",
       "      <td>88.771337</td>\n",
       "      <td>3.0</td>\n",
       "    </tr>\n",
       "    <tr>\n",
       "      <th>5</th>\n",
       "      <td>10.0</td>\n",
       "      <td>11.0</td>\n",
       "      <td>89.000822</td>\n",
       "      <td>4.0</td>\n",
       "    </tr>\n",
       "    <tr>\n",
       "      <th>6</th>\n",
       "      <td>13.0</td>\n",
       "      <td>14.0</td>\n",
       "      <td>103.433034</td>\n",
       "      <td>5.0</td>\n",
       "    </tr>\n",
       "    <tr>\n",
       "      <th>7</th>\n",
       "      <td>5.0</td>\n",
       "      <td>15.0</td>\n",
       "      <td>111.714160</td>\n",
       "      <td>5.0</td>\n",
       "    </tr>\n",
       "    <tr>\n",
       "      <th>8</th>\n",
       "      <td>16.0</td>\n",
       "      <td>17.0</td>\n",
       "      <td>122.093246</td>\n",
       "      <td>10.0</td>\n",
       "    </tr>\n",
       "  </tbody>\n",
       "</table>\n",
       "</div>"
      ],
      "text/plain": [
       "   item1  item2        dist  num_points\n",
       "0    8.0    9.0   70.142855         2.0\n",
       "1    2.0    6.0   80.084881         2.0\n",
       "2    0.0    1.0   82.073211         2.0\n",
       "3    3.0    4.0   87.078755         2.0\n",
       "4    7.0   12.0   88.771337         3.0\n",
       "5   10.0   11.0   89.000822         4.0\n",
       "6   13.0   14.0  103.433034         5.0\n",
       "7    5.0   15.0  111.714160         5.0\n",
       "8   16.0   17.0  122.093246        10.0"
      ]
     },
     "execution_count": 26,
     "metadata": {},
     "output_type": "execute_result"
    }
   ],
   "source": [
    "linkages"
   ]
  },
  {
   "cell_type": "code",
   "execution_count": 5,
   "id": "cd18ea12-b264-42fa-9f08-311ebc8c613b",
   "metadata": {},
   "outputs": [],
   "source": [
    "linkages = pd.DataFrame(dendroData)"
   ]
  },
  {
   "cell_type": "code",
   "execution_count": 7,
   "id": "d618ec44-cb45-4b82-93ba-cc660073dcaa",
   "metadata": {},
   "outputs": [],
   "source": [
    "linkages.columns = ['item1', 'item2', 'dist', 'num_points']"
   ]
  },
  {
   "cell_type": "code",
   "execution_count": 15,
   "id": "a8bd00e6-f5c3-4d0d-9d27-f45b28fbb831",
   "metadata": {},
   "outputs": [],
   "source": [
    "uniq_points = linkages.num_points.unique()"
   ]
  },
  {
   "cell_type": "code",
   "execution_count": 22,
   "id": "904b54fd-6392-47d8-9a68-bafbf3b3feff",
   "metadata": {},
   "outputs": [
    {
     "name": "stdout",
     "output_type": "stream",
     "text": [
      "item1          8.000000\n",
      "item2          9.000000\n",
      "dist          70.142855\n",
      "num_points     2.000000\n",
      "Name: 0, dtype: float64\n",
      "item1          2.000000\n",
      "item2          6.000000\n",
      "dist          80.084881\n",
      "num_points     2.000000\n",
      "Name: 1, dtype: float64\n",
      "item1          0.000000\n",
      "item2          1.000000\n",
      "dist          82.073211\n",
      "num_points     2.000000\n",
      "Name: 2, dtype: float64\n",
      "item1          3.000000\n",
      "item2          4.000000\n",
      "dist          87.078755\n",
      "num_points     2.000000\n",
      "Name: 3, dtype: float64\n"
     ]
    }
   ],
   "source": [
    "clusters = []\n",
    "for index, r in linkages[linkages['num_points']==uniq_points[0]].iterrows():\n",
    "    cluster = []\n",
    "    umapint[r.item1]\n",
    "    umapint[r.item2]"
   ]
  },
  {
   "cell_type": "code",
   "execution_count": null,
   "id": "23a3b2b2-d9b2-4394-87dd-115005db38c2",
   "metadata": {},
   "outputs": [],
   "source": []
  }
 ],
 "metadata": {
  "kernelspec": {
   "display_name": "Python 3 (ipykernel)",
   "language": "python",
   "name": "python3"
  },
  "language_info": {
   "codemirror_mode": {
    "name": "ipython",
    "version": 3
   },
   "file_extension": ".py",
   "mimetype": "text/x-python",
   "name": "python",
   "nbconvert_exporter": "python",
   "pygments_lexer": "ipython3",
   "version": "3.9.1"
  }
 },
 "nbformat": 4,
 "nbformat_minor": 5
}
